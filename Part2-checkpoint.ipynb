{
 "cells": [
  {
   "cell_type": "markdown",
   "metadata": {},
   "source": [
    "## Taking marks and Showing Percentages\n",
    "\n"
   ]
  },
  {
   "cell_type": "markdown",
   "metadata": {},
   "source": [
    "# Python Built-In Functions with Syntax and Examples\n",
    "\n",
    "## 1. abs()\n",
    "\n",
    "> *The abs() is one of the most popular Python built-in functions, which returns the absolute value of a number. A negative value’s absolute is that value is positive*\n",
    "```ruby\n",
    "abs(-7)\n",
    "7\n",
    "abs(7)\n",
    "7\n",
    "```\n",
    "\n",
    "## 2. chr()\n",
    "\n",
    "> *chr() Built In function returns the character in python for an ASCII value.*\n",
    "```ruby\n",
    "chr(65)\n",
    "‘A’\n",
    "chr(97)\n",
    "‘a’\n",
    "```\n",
    "\n",
    "\n",
    "## 3. input()\n",
    "\n",
    "> *Input() Python built-in functions, reads and returns a line of string.*\n",
    "```ruby \n",
    "input(\"Enter a number = \")\n",
    "Enter a number = 7\n",
    "```\n",
    "\n",
    "## 4. int()\n",
    "\n",
    "> *int() converts a value to an integer.*\n",
    "```ruby\n",
    "x= int('768')\n",
    "print(x)\n",
    "768\n",
    "```\n",
    "\n",
    "\n",
    "## 5. len()\n",
    "\n",
    "> *We’ve seen len() so many times by now. It returns the length of an object.*\n",
    "```ruby\n",
    "len({1,2,2,3})\n",
    "3\n",
    "```\n",
    "***Here, we get 3 instead of 4, because the set takes the value ‘2’ only once.***\n",
    "\n",
    "\n",
    "## 6. list()\n",
    "\n",
    "> *list() creates a list from a sequence of values.*\n",
    "```ruby\n",
    "list({1,3,2,2})\n",
    "[1, 2, 3]\n",
    "```"
   ]
  }
 ],
 "metadata": {
  "kernelspec": {
   "display_name": "Python 3",
   "language": "python",
   "name": "python3"
  },
  "language_info": {
   "codemirror_mode": {
    "name": "ipython",
    "version": 3
   },
   "file_extension": ".py",
   "mimetype": "text/x-python",
   "name": "python",
   "nbconvert_exporter": "python",
   "pygments_lexer": "ipython3",
   "version": "3.7.1"
  }
 },
 "nbformat": 4,
 "nbformat_minor": 2
}
