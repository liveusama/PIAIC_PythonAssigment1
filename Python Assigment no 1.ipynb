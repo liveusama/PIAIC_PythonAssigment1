{
 "cells": [
  {
   "cell_type": "markdown",
   "metadata": {},
   "source": [
    "## Taking marks and Showing Percentages\n",
    "\n"
   ]
  },
  {
   "cell_type": "code",
   "execution_count": 1,
   "metadata": {},
   "outputs": [
    {
     "name": "stdout",
     "output_type": "stream",
     "text": [
      "Enter your name = Usama Hameed\n",
      "Enter your father name = Abdul Hameed Shad\n",
      "Enter your Roll No = 123456\n",
      "Enter your Math Marks = 45\n",
      "Enter your Chem Marks = 67\n",
      "Enter your Physics Marks = 98\n",
      "Enter your Urdu Marks = 56\n",
      "\n",
      "Student Name: Usama Hameed\n",
      "Father Name: Abdul Hameed Shad\n",
      "Roll NO: 123456\n",
      "Math Marks: 45\n",
      "Chem Marks: 67\n",
      "Physics Marks: 98\n",
      "Urdu Marks: 56\n",
      "Total Marks : 400\n",
      "Marks in all Subjects: 266\n",
      "Total Percentage: 66.5\n",
      "\n"
     ]
    }
   ],
   "source": [
    "name = input(\"Enter your name = \")\n",
    "father_Name = input(\"Enter your father name = \")\n",
    "rollNO = input(\"Enter your Roll No = \")\n",
    "mathMarks = int(input(\"Enter your Math Marks = \"))\n",
    "chemMarks = int(input(\"Enter your Chem Marks = \"))\n",
    "physicsMarks = int(input(\"Enter your Physics Marks = \"))\n",
    "urduMarks = int(input(\"Enter your Urdu Marks = \"))\n",
    "total_subjects = int (mathMarks+chemMarks+physicsMarks+urduMarks)\n",
    "total_Marks = 400\n",
    "total_Percentage = (total_subjects/400)*100\n",
    "message = \"\"\"\n",
    "Student Name: {}\n",
    "Father Name: {}\n",
    "Roll NO: {}\n",
    "Math Marks: {}\n",
    "Chem Marks: {}\n",
    "Physics Marks: {}\n",
    "Urdu Marks: {}\n",
    "Total Marks : {}\n",
    "Marks in all Subjects: {}\n",
    "Total Percentage: {}\n",
    "\"\"\"\n",
    "message1 = message.format(name, father_Name, rollNO, mathMarks, chemMarks, physicsMarks, urduMarks, total_Marks, total_subjects, total_Percentage)\n",
    "print(message1)\n"
   ]
  }
 ],
 "metadata": {
  "kernelspec": {
   "display_name": "Python 3",
   "language": "python",
   "name": "python3"
  },
  "language_info": {
   "codemirror_mode": {
    "name": "ipython",
    "version": 3
   },
   "file_extension": ".py",
   "mimetype": "text/x-python",
   "name": "python",
   "nbconvert_exporter": "python",
   "pygments_lexer": "ipython3",
   "version": "3.7.1"
  }
 },
 "nbformat": 4,
 "nbformat_minor": 2
}
